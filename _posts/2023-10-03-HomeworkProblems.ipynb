{
 "cells": [
  {
   "cell_type": "markdown",
   "metadata": {},
   "source": [
    "---\n",
    "toc: true\n",
    "comments: false\n",
    "layout: post\n",
    "title: Homework problems Data Abstractions\n",
    "type: hacks\n",
    "courses: { csp: {week: 4} }\n",
    "---\n",
    "\n",
    "### Introduction\n",
    "- Here is the homework prompt"
   ]
  },
  {
   "cell_type": "markdown",
   "metadata": {},
   "source": [
    "### Problem 1\n",
    "- Two airplanes are in a race, your job is to make a plane name list, append the name value to the participents  then make a variable that pulls the distance covered for each plane. in the end, in the curly brackets print the name of the plane, add more variables with curly brackets. "
   ]
  },
  {
   "cell_type": "code",
   "execution_count": 2,
   "metadata": {},
   "outputs": [
    {
     "name": "stdout",
     "output_type": "stream",
     "text": [
      "The winner of the airplane race is Bushawn Bal in the 'The Biggest Bird' with a distance of 1500 miles!\n"
     ]
    }
   ],
   "source": [
    "# Define a list of airplane race participants\n",
    "participants = [\n",
    "    {\"name\": \"Billium Bang\", \"plane\": \"Red Rocket\", \"distance_covered\": 1200},\n",
    "    {\"name\": \"Bushawn Bal\", \"plane\": \"The Biggest Bird\", \"distance_covered\": 1500}\n",
    "]\n",
    "\n",
    "# Calculate the total distance covered by each pilot during the race\n",
    "total_distance_covered = sum(participant[\"distance_covered\"] for participant in participants)\n",
    "\n",
    "# Determine the winner\n",
    "winner = max(participants, key=lambda x: x[\"distance_covered\"])\n",
    "print(f\"The winner of the airplane race is {winner['name']} in the '{winner['plane']}' with a distance of {winner['distance_covered']} miles!\")\n"
   ]
  },
  {
   "cell_type": "markdown",
   "metadata": {},
   "source": [
    "### Problem 2\n",
    "- Add more participants , in the loop, add a tricks variable that gets data from participants list\n",
    "    score = tricks * 10  # Each trick is worth 10 points\n",
    "    add a score and add it to a score in the list ex list[score] = score"
   ]
  },
  {
   "cell_type": "code",
   "execution_count": 9,
   "metadata": {},
   "outputs": [
    {
     "name": "stdout",
     "output_type": "stream",
     "text": [
      "Dog Show Results:\n",
      "Fido - 40 points\n",
      "Max - 100 points\n",
      "Rocky - 20 points\n",
      "The winner of the dog show is Max with 100 points!\n"
     ]
    }
   ],
   "source": [
    "# Define a list of dog show participants\n",
    "participants = [\n",
    "    {\"name\": \"Fido\", \"breed\": \"Golden Retriever\", \"tricks\": 4},\n",
    "    {\"name\": \"Max\", \"breed\": \"Collie\", \"tricks\": 10},\n",
    "    {\"name\": \"Rocky\", \"breed\": \"Bulldog\", \"tricks\": 2}\n",
    "]\n",
    "\n",
    "# Calculate the scores for each dog based on the number of tricks they can perform\n",
    "for participant in participants:\n",
    "    participant[\"score\"] = participant[\"tricks\"] * 10  # Each trick is worth 10 points\n",
    "\n",
    "# Determine the winning dog\n",
    "winner = max(participants, key=lambda x: x[\"score\"])\n",
    "\n",
    "# Display the dog show results\n",
    "print(\"Dog Show Results:\")\n",
    "for participant in participants:\n",
    "    print(f\"{participant['name']} - {participant['score']} points\")\n",
    "\n",
    "print(f\"The winner of the dog show is {winner['name']} with {winner['score']} points!\")\n"
   ]
  },
  {
   "cell_type": "markdown",
   "metadata": {},
   "source": [
    "this problem, were making a bank account, you just have to know what to do to add all of the functions to change the variables"
   ]
  },
  {
   "cell_type": "code",
   "execution_count": 33,
   "metadata": {},
   "outputs": [
    {
     "name": "stdout",
     "output_type": "stream",
     "text": [
      "Withdrew $1000. New balance: $0\n",
      "Deposited $1000. New balance: $1005\n",
      "Withdrew $1005. New balance: $0\n",
      "Alex Account: Account Holder: Alex, Balance: $0\n",
      "Noah Account: Account Holder: Noah, Balance: $0\n"
     ]
    }
   ],
   "source": [
    "# Define a class representing a Bank Account\n",
    "class BankAccount:\n",
    "    def __init__(self, account_holder, balance=0):\n",
    "        self.account_holder = account_holder\n",
    "        self.balance = balance\n",
    "\n",
    "    def deposit(self, amount):\n",
    "        if amount > 0:\n",
    "            self.balance += amount\n",
    "            print(f\"Deposited ${amount}. New balance: ${self.balance}\")\n",
    "        else:\n",
    "            print(\"Invalid deposit amount.\")\n",
    "\n",
    "    def withdraw(self, amount):\n",
    "        if 0 < amount <= self.balance:\n",
    "            self.balance -= amount\n",
    "            print(f\"Withdrew ${amount}. New balance: ${self.balance}\")\n",
    "        else:\n",
    "            print(\"Insufficient funds for withdrawal.\")\n",
    "\n",
    "    def get_balance(self):\n",
    "        return self.balance\n",
    "\n",
    "    def __str__(self):\n",
    "        return f\"Account Holder: {self.account_holder}, Balance: ${self.balance}\"\n",
    "\n",
    "# Create two bank accounts: Alex with $1000 initially, and Noah with $5 initially:\n",
    "alexAccount = BankAccount(\"Alex\", 1000)\n",
    "noahAccount = BankAccount(\"Noah\", 5)\n",
    "\n",
    "# Perform some transactions\n",
    "\n",
    "alexAccount.withdraw(1000)\n",
    "noahAccount.deposit(1000)\n",
    "noahAccount.withdraw(1005)\n",
    "\n",
    "# Display account information\n",
    "print(\"Alex Account:\", alexAccount)\n",
    "print(\"Noah Account:\", noahAccount)\n"
   ]
  },
  {
   "cell_type": "markdown",
   "metadata": {},
   "source": [
    "### add more regions\n"
   ]
  },
  {
   "cell_type": "code",
   "execution_count": 43,
   "metadata": {},
   "outputs": [
    {
     "name": "stdout",
     "output_type": "stream",
     "text": [
      "The region with the highest economic growth potential is Region A:\n",
      "- GDP Growth Rate: 1.98%\n",
      "- Unemployment Rate: 7.01%\n",
      "- Investment Score: 80.54\n",
      "- Education Index: 0.83\n",
      "- Infrastructure Quality: 5.24\n"
     ]
    }
   ],
   "source": [
    "import random\n",
    "\n",
    "# Define a list of regions, each represented as a dictionary\n",
    "regions = [\n",
    "    {\n",
    "        \"name\": \"Region A\",\n",
    "        \"GDP_growth\": random.uniform(0.5, 3.0),  # Random GDP growth rate between 0.5% and 3.0%\n",
    "        \"unemployment_rate\": random.uniform(3.0, 10.0),  # Random unemployment rate between 3.0% and 10.0%\n",
    "        \"investment_score\": random.uniform(50, 100),  # Random investment score between 50 and 100\n",
    "        \"education_index\": random.uniform(0.5, 1.0),  # Random education index between 0.5 and 1.0\n",
    "        \"infrastructure_quality\": random.uniform(3.0, 8.0)  # Random infrastructure quality between 3.0 and 8.0 (scale of 1-10)\n",
    "    },\n",
    "    # Define more regions\n",
    "    {\n",
    "        \"name\": \"Region B\",\n",
    "        \"GDP_growth\": random.uniform(0.3, 4.5),\n",
    "        \"unemployment_rate\": random.uniform(2.0, 5.0),  # Random unemployment rate between 3.0% and 10.0%\n",
    "        \"investment_score\": random.uniform(40, 70),  # Random investment score between 50 and 100\n",
    "        \"education_index\": random.uniform(3, 10),  # Random education index between 0.5 and 1.0\n",
    "        \"infrastructure_quality\": random.uniform(2, 5)  \n",
    "    },\n",
    "    {\n",
    "        \"name\": \"Region C\",\n",
    "        \"GDP_growth\": random.uniform(0.6, 3.0),\n",
    "        \"unemployment_rate\": random.uniform(7.0, 1.0),  # Random unemployment rate between 3.0% and 10.0%\n",
    "        \"investment_score\": random.uniform(30, 90),  # Random investment score between 50 and 100\n",
    "        \"education_index\": random.uniform(4, 12),  # Random education index between 0.5 and 1.0\n",
    "        \"infrastructure_quality\": random.uniform(5, 9)\n",
    "    }\n",
    "]\n",
    "\n",
    "# Define weights for each economic indicator\n",
    "weights = {\n",
    "    \"GDP_growth\": 0.4,\n",
    "    \"unemployment_rate\": -0.2,\n",
    "    \"investment_score\": 0.3,\n",
    "    \"education_index\": 0.1,\n",
    "    \"infrastructure_quality\": 0.2\n",
    "}\n",
    "\n",
    "# Function to calculate a score for each region based on economic indicators and weights\n",
    "def calculate_score(region):\n",
    "    score = 0\n",
    "    for indicator, weight in weights.items():\n",
    "        score += region[indicator] * weight\n",
    "    return score\n",
    "\n",
    "# Find the region with the highest economic growth potential\n",
    "best_region = max(regions, key=calculate_score)\n",
    "\n",
    "# Display information about the winning region\n",
    "print(f\"The region with the highest economic growth potential is {best_region['name']}:\")\n",
    "print(f\"- GDP Growth Rate: {best_region['GDP_growth']:.2f}%\")\n",
    "print(f\"- Unemployment Rate: {best_region['unemployment_rate']:.2f}%\")\n",
    "print(f\"- Investment Score: {best_region['investment_score']:.2f}\")\n",
    "print(f\"- Education Index: {best_region['education_index']:.2f}\")\n",
    "print(f\"- Infrastructure Quality: {best_region['infrastructure_quality']:.2f}\")\n"
   ]
  },
  {
   "cell_type": "markdown",
   "metadata": {},
   "source": [
    "### problem final\n",
    "\n",
    "- make an empty list and dictionary\n",
    "- add data in all of the given simple loops, so that this problem runs its print functions without error\n",
    "- this one is hard, try very hard, a heartfelt atempt, like all of the code done with minor issues is still full credit\n",
    "\n",
    "try to understand this problem, it has lots of data abstractions\n",
    "\n",
    "data is given on the bottem and a function is calling it IMPORTANT!!!\n"
   ]
  },
  {
   "cell_type": "code",
   "execution_count": 50,
   "metadata": {},
   "outputs": [
    {
     "ename": "KeyError",
     "evalue": "('Alice', 'Bob', 'Charlie', 'David', 'Eve')",
     "output_type": "error",
     "traceback": [
      "\u001b[0;31m---------------------------------------------------------------------------\u001b[0m",
      "\u001b[0;31mKeyError\u001b[0m                                  Traceback (most recent call last)",
      "\u001b[0;32m/tmp/ipykernel_574628/1594586481.py\u001b[0m in \u001b[0;36m<module>\u001b[0;34m\u001b[0m\n\u001b[1;32m     41\u001b[0m ]\n\u001b[1;32m     42\u001b[0m \u001b[0;34m\u001b[0m\u001b[0m\n\u001b[0;32m---> 43\u001b[0;31m \u001b[0mresult\u001b[0m \u001b[0;34m=\u001b[0m \u001b[0msimulate_data_structure\u001b[0m\u001b[0;34m(\u001b[0m\u001b[0mdata\u001b[0m\u001b[0;34m)\u001b[0m\u001b[0;34m\u001b[0m\u001b[0;34m\u001b[0m\u001b[0m\n\u001b[0m\u001b[1;32m     44\u001b[0m \u001b[0mprint\u001b[0m\u001b[0;34m(\u001b[0m\u001b[0mresult\u001b[0m\u001b[0;34m)\u001b[0m\u001b[0;34m\u001b[0m\u001b[0;34m\u001b[0m\u001b[0m\n",
      "\u001b[0;32m/tmp/ipykernel_574628/1594586481.py\u001b[0m in \u001b[0;36msimulate_data_structure\u001b[0;34m(data)\u001b[0m\n\u001b[1;32m      6\u001b[0m \u001b[0;34m\u001b[0m\u001b[0m\n\u001b[1;32m      7\u001b[0m     \u001b[0;32mfor\u001b[0m \u001b[0mperson\u001b[0m \u001b[0;32min\u001b[0m \u001b[0mdata\u001b[0m\u001b[0;34m:\u001b[0m\u001b[0;34m\u001b[0m\u001b[0;34m\u001b[0m\u001b[0m\n\u001b[0;32m----> 8\u001b[0;31m         \u001b[0mname\u001b[0m \u001b[0;34m=\u001b[0m \u001b[0mperson\u001b[0m\u001b[0;34m[\u001b[0m\u001b[0;34m\"Alice\"\u001b[0m\u001b[0;34m,\u001b[0m \u001b[0;34m\"Bob\"\u001b[0m\u001b[0;34m,\u001b[0m \u001b[0;34m\"Charlie\"\u001b[0m\u001b[0;34m,\u001b[0m \u001b[0;34m\"David\"\u001b[0m\u001b[0;34m,\u001b[0m \u001b[0;34m\"Eve\"\u001b[0m\u001b[0;34m]\u001b[0m\u001b[0;34m\u001b[0m\u001b[0;34m\u001b[0m\u001b[0m\n\u001b[0m\u001b[1;32m      9\u001b[0m         \u001b[0mage\u001b[0m \u001b[0;34m=\u001b[0m \u001b[0mperson\u001b[0m\u001b[0;34m[\u001b[0m\u001b[0;34m\"25\"\u001b[0m\u001b[0;34m,\u001b[0m \u001b[0;34m\"30\"\u001b[0m\u001b[0;34m,\u001b[0m \u001b[0;34m\"22\"\u001b[0m\u001b[0;34m,\u001b[0m \u001b[0;34m\"35\"\u001b[0m\u001b[0;34m,\u001b[0m \u001b[0;34m\"28\"\u001b[0m\u001b[0;34m]\u001b[0m\u001b[0;34m\u001b[0m\u001b[0;34m\u001b[0m\u001b[0m\n\u001b[1;32m     10\u001b[0m         \u001b[0mcity\u001b[0m \u001b[0;34m=\u001b[0m \u001b[0mperson\u001b[0m\u001b[0;34m[\u001b[0m\u001b[0;34m\"New York\"\u001b[0m\u001b[0;34m,\u001b[0m \u001b[0;34m\"Los Angeles\"\u001b[0m\u001b[0;34m,\u001b[0m \u001b[0;34m\"Chicago\"\u001b[0m\u001b[0;34m]\u001b[0m\u001b[0;34m\u001b[0m\u001b[0;34m\u001b[0m\u001b[0m\n",
      "\u001b[0;31mKeyError\u001b[0m: ('Alice', 'Bob', 'Charlie', 'David', 'Eve')"
     ]
    }
   ],
   "source": [
    "list_data = []\n",
    "city_data = {}\n",
    "def simulate_data_structure(data):\n",
    "    # Dictionary to store city data must be blank\n",
    "     # List to store city statistics also blank\n",
    "\n",
    "    for person in data:\n",
    "        name = person[\"Alice\", \"Bob\", \"Charlie\", \"David\", \"Eve\"]\n",
    "        age = person[\"25\", \"30\", \"22\", \"35\", \"28\"]\n",
    "        city = person[\"New York\", \"Los Angeles\", \"Chicago\"]\n",
    "\n",
    "        city_data = {\"Los Angeles\", \"New York\", \"Chicago\"}\n",
    "        if city not in city_data:\n",
    "            city_data[city] = {\"names\": [], \"total_age\": 0, \"total_people\": 0} # reduces err\n",
    "\n",
    "        city_data[city][\"names\"]# Add the name to the city's list\n",
    "        city_data[city][\"total_age\"] # Add the age to the city's total age hint , use +=\n",
    "        city_data[city][\"total_people\"]  # Increment the total people count hint , use +=\n",
    "\n",
    "    for city, city_info in city_data.items():\n",
    "        # 2. Calculate the average age for each city\n",
    "        average_age = city_info[\"total_age\"] / city_info[\"total_people\"]\n",
    "        city_info[\"average_age\"] = round(average_age, 2)  # Round to 2 decimal places\n",
    "\n",
    "        # 3. Create a dictionary for city statistics\n",
    "        city_stats.dict={\"Statistics\"} #your code after the dot, what happens here, how do u apend a dictionary???\n",
    "\n",
    "    # Add the city statistics under the \"Statistics\" key\n",
    "    city_data[\"Statistics\"] = city_stats\n",
    "\n",
    "    return city_data\n",
    "\n",
    "\n",
    "# Example data\n",
    "data = [\n",
    "    {\"name\": \"Alice\", \"age\": 25, \"city\": \"New York\"},\n",
    "    {\"name\": \"Bob\", \"age\": 30, \"city\": \"Los Angeles\"},\n",
    "    {\"name\": \"Charlie\", \"age\": 22, \"city\": \"New York\"},\n",
    "    {\"name\": \"David\", \"age\": 35, \"city\": \"Los Angeles\"},\n",
    "    {\"name\": \"Eve\", \"age\": 28, \"city\": \"Chicago\"},\n",
    "]\n",
    "\n",
    "result = simulate_data_structure(data)\n",
    "print(result)"
   ]
  },
  {
   "cell_type": "code",
   "execution_count": 2,
   "metadata": {},
   "outputs": [
    {
     "name": "stdout",
     "output_type": "stream",
     "text": [
      "['butter', 'white sugar', 'light brown sugar', 'vanilla extract', 'eggs', 'flour', 'chocolate chips', 'baking soda', 'salt', 'baking powder']\n",
      "Place in a 375 F oven for 8-10 minutes and remove just before they start to turn brown\n",
      "Let them sit on the baking pan for 2 minutes before removing to cooling rack.\n",
      "Enjoy  your CHOCOLATE  CHIP  COOKIES!!! \n"
     ]
    }
   ],
   "source": [
    "ingredients = [\"butter\", \"white sugar\", \"light brown sugar\", \"vanilla extract\", \"eggs\", \"flour\", \"chocolate chips\", \"baking soda\", \"salt\", \"baking powder\"]\n",
    "# Print this list\n",
    "\n",
    "print(ingredients)\n",
    "\n",
    "\n",
    "# Create a list called bowl\n",
    "\n",
    "\n",
    "# Your list must include:\n",
    "# \"flour\"\n",
    "# \"baking soda\"\n",
    "# \"salt\"\n",
    "# \"baking powder\"\n",
    "# When creating this list, make sure to remove these items from the \"ingredients\" list!\n",
    "# Print your list\n",
    "\n",
    "bowl = [\"flour\", \"butter\", \"baking soda\", \"salt\", \"baking powder\"]\n",
    "ingredients.remove(\"flour\")\n",
    "ingredients.remove(\"baking soda\")\n",
    "ingredients.remove(\"salt\")\n",
    "ingredients.remove(\"baking powder\")\n",
    "\n",
    "# Create a list called cream\n",
    "# Include:\n",
    "# \"butter\"\n",
    "# \"white sugar\"\n",
    "# \"light brown sugar\"\n",
    "# \"vanilla extract\"\n",
    "# \"eggs\"\n",
    "# When creating this list, make sure to remove these items from the \"ingredients\" list!\n",
    "# Print your list\n",
    "\n",
    "# << CODE >>\n",
    "cream = [\"butter\", \"white sugar\", \"light brown sugar\", \"vanilla extract\", \"eggs\"]\n",
    "ingredients.remove(\"butter\")\n",
    "ingredients.remove(\"light brown sugar\")\n",
    "ingredients.remove(\"white sugar\")\n",
    "ingredients.remove(\"vanilla extract\")\n",
    "ingredients.remove(\"eggs\")\n",
    "\n",
    "# Create a list called \"dough\"\n",
    "# Combine the bowl list and cream list together\n",
    "# Print your list\n",
    "\n",
    "dough = [bowl + cream]\n",
    "\n",
    "# Append chocolate chips to the dough list and remove it from the ingredients list\n",
    "# Print the list\n",
    "\n",
    "\n",
    "\n",
    "# Create a string that says \"Now roll the dough into balls and place them on cookie sheets!\"\n",
    "# Print it\n",
    "\n",
    "myString = \"Now roll the dough into balls and place them on cookie sheets!\"\n",
    "\n",
    "# Create an int called temperature and set it to 375\n",
    "# Print \"Place in a <<your integer goes here>> F oven for 8-10 minutes and remove just before they start to turn brown.\"\n",
    "\n",
    "temperature = 375\n",
    "print(\"Place in a \" + str(temperature) + \" F oven for 8-10 minutes and remove just before they start to turn brown\")\n",
    "\n",
    "# Create an int called \"cool down\" using pascal case and set it to 2\n",
    "# Print \"Let them sit on the baking pan for <<your integer goes here>> minutes before removing to cooling rack.\"\n",
    "\n",
    "CoolDown = 2\n",
    "print(\"Let them sit on the baking pan for \" + str(CoolDown) + \" minutes before removing to cooling rack.\")\n",
    "\n",
    "# Create 5 string (use whatever casing you feel)\n",
    "# First string should be \"Enjoy\"\n",
    "# Second string should be \"your\"\n",
    "# Third string should be \"CHOCOLATE\"\n",
    "# Fourth string should be \"CHIP\"\n",
    "# Fifth string should be \"COOKIES!!!\"\n",
    "# Using ONE print statement, print ALL of these variables (with a space between each)\n",
    "\n",
    "string1 = \"Enjoy\"\n",
    "string2 = \"your\"\n",
    "string3 = \"CHOCOLATE\"\n",
    "string4 = \"CHIP\"\n",
    "string5 = \"COOKIES!!!\"\n",
    "print(string1 + \" \", string2 + \"\", string3 + \" \", string4 + \" \", string5 + \" \")\n",
    "# JSON CHALLENGE\n",
    "# can your do the whole project by using a JSON list?\n",
    "# can you convert it to a python dictionary and do all these steps?\n",
    "\n",
    "# Yes this is a real cookie recipe. You can find it below if you wanna make them! :)\n",
    "# https://joyfoodsunshine.com/the-most-amazing-chocolate-chip-cookies/\n"
   ]
  }
 ],
 "metadata": {
  "kernelspec": {
   "display_name": "Python 3",
   "language": "python",
   "name": "python3"
  },
  "language_info": {
   "codemirror_mode": {
    "name": "ipython",
    "version": 3
   },
   "file_extension": ".py",
   "mimetype": "text/x-python",
   "name": "python",
   "nbconvert_exporter": "python",
   "pygments_lexer": "ipython3",
   "version": "3.10.12"
  },
  "orig_nbformat": 4
 },
 "nbformat": 4,
 "nbformat_minor": 2
}
