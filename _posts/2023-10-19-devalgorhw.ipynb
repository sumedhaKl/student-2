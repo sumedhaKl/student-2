{
 "cells": [
  {
   "cell_type": "markdown",
   "metadata": {},
   "source": [
    "---\n",
    "toc: True\n",
    "comments: False\n",
    "layout: post\n",
    "title: Developing Algorithms \n",
    "type: plans\n",
    "courses: {compsci: {'week': 4}}\n",
    "---"
   ]
  },
  {
   "cell_type": "code",
   "execution_count": 1,
   "metadata": {},
   "outputs": [
    {
     "name": "stdout",
     "output_type": "stream",
     "text": [
      "[6, 3, 10, 5, 16, 8, 4, 2, 1]\n"
     ]
    }
   ],
   "source": [
    "def collatz_conjecture(n):\n",
    "    sequence = [n]\n",
    "\n",
    "    while n != 1:\n",
    "        if n % 2 == 0:\n",
    "            n = n // 2\n",
    "        else:\n",
    "            n = 3 * n + 1\n",
    "        sequence.append(n) \n",
    "\n",
    "    return sequence\n",
    "\n",
    "initial_number = 6\n",
    "\n",
    "result = collatz_conjecture(initial_number)\n",
    "print(result)"
   ]
  },
  {
   "cell_type": "code",
   "execution_count": 2,
   "metadata": {},
   "outputs": [
    {
     "name": "stdout",
     "output_type": "stream",
     "text": [
      "[1, 1, 2, 3, 5, 8, 13, 21, 34, 55]\n"
     ]
    }
   ],
   "source": [
    "def generate_fibonacci_sequence(n):\n",
    "    fibonacci_sequence = [1, 1] \n",
    "\n",
    "    while len(fibonacci_sequence) < n:\n",
    "        new_term = fibonacci_sequence[-1] + fibonacci_sequence[-2]\n",
    "        fibonacci_sequence.append(new_term)\n",
    "\n",
    "    return fibonacci_sequence\n",
    "\n",
    "num_terms = 10 \n",
    "\n",
    "result = generate_fibonacci_sequence(num_terms)\n",
    "print(result)"
   ]
  },
  {
   "cell_type": "code",
   "execution_count": 3,
   "metadata": {},
   "outputs": [
    {
     "name": "stdout",
     "output_type": "stream",
     "text": [
      "Mean: 3.7777777777777777\n",
      "Median: 4\n",
      "Mode: [2, 5, 6]\n"
     ]
    }
   ],
   "source": [
    "def calculate_mean(series):\n",
    "    if len(series) == 0:\n",
    "        return None\n",
    "    total = 0\n",
    "    for num in series:\n",
    "        total += num\n",
    "    return total / len(series)\n",
    "\n",
    "def calculate_median(series):\n",
    "    if len(series) == 0:\n",
    "        return None\n",
    "    sorted_series = sorted(series)\n",
    "    middle = len(sorted_series) // 2\n",
    "    if len(sorted_series) % 2 == 0:\n",
    "        return (sorted_series[middle - 1] + sorted_series[middle]) / 2\n",
    "    else:\n",
    "        return sorted_series[middle]\n",
    "\n",
    "def calculate_mode(series):\n",
    "    if len(series) == 0:\n",
    "        return None\n",
    "    frequency = {}\n",
    "    for num in series:\n",
    "        if num in frequency:\n",
    "            frequency[num] += 1\n",
    "        else:\n",
    "            frequency[num] = 1\n",
    "    max_frequency = max(frequency.values())\n",
    "    mode = [key for key, value in frequency.items() if value == max_frequency]\n",
    "    return mode\n",
    "\n",
    "data = [1, 2, 2, 3, 4, 5, 5, 6, 6]\n",
    "\n",
    "mean = calculate_mean(data)\n",
    "median = calculate_median(data)\n",
    "mode = calculate_mode(data)\n",
    "\n",
    "print(f\"Mean: {mean}\")\n",
    "print(f\"Median: {median}\")\n",
    "print(f\"Mode: {mode}\")\n"
   ]
  }
 ],
 "metadata": {
  "kernelspec": {
   "display_name": "Python 3",
   "language": "python",
   "name": "python3"
  },
  "language_info": {
   "codemirror_mode": {
    "name": "ipython",
    "version": 3
   },
   "file_extension": ".py",
   "mimetype": "text/x-python",
   "name": "python",
   "nbconvert_exporter": "python",
   "pygments_lexer": "ipython3",
   "version": "3.10.12"
  }
 },
 "nbformat": 4,
 "nbformat_minor": 2
}
