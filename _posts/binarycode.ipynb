{
 "cells": [
  {
   "cell_type": "raw",
   "metadata": {},
   "source": [
    "01001001 01100110 00100000 01111001 01101111 01110101 00100000\n",
    "01110111 01100001 01101110 01110100 00100000 01110100 01101111\n",
    "00100000 01110010 01100101 01110000 01110010 01100101 01110011\n",
    "01100101 01101110 01110100 00100001 00100000 01001100 01101111\n",
    "01101111 01101011 00100001 01101001 01101110 01100111 01100001\n",
    "01110100 00100000 01100011 01101111 01101111 01101100 00101110"
   ]
  }
 ],
 "metadata": {
  "kernelspec": {
   "display_name": "Python 3",
   "language": "python",
   "name": "python3"
  },
  "language_info": {
   "codemirror_mode": {
    "name": "ipython",
    "version": 3
   },
   "file_extension": ".py",
   "mimetype": "text/x-python",
   "name": "python",
   "nbconvert_exporter": "python",
   "pygments_lexer": "ipython3",
   "version": "3.10.12"
  }
 },
 "nbformat": 4,
 "nbformat_minor": 2
}
