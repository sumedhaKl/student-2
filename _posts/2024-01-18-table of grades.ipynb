{
 "cells": [
  {
   "cell_type": "markdown",
   "metadata": {},
   "source": [
    "|       | Score  |  Grader Verification  |  Extras  |  Key Indicators: my HW |\n",
    "|--------|-------|-----------------------|----------|--------------------------------------------------------|\n",
    "|  The Internet|  0.95 |    Sri S       | saw CB videos        | http://127.0.0.1:4200/student/2023/11/28/InternetLesson.html#multiple-choice-questions-mcqs                                                       |\n",
    "|  Routing and Computing|    1.0   |  Nikki H.| CB videos   |  http://127.0.0.1:4200/student/c4.1/2023/11/27/Routing_and_Computing.html                                                       |\n",
    "|  Beneficial and Harmful Effects| 0.9  |    Kaiyu S. |   CB Videos    | http://127.0.0.1:4200/student/2023/12/07/Beneficial_and_Harmful_Effects.html#homework-hack-come-up-with-a-program-with-beneficial-and-harmful-effects-you-dont-have-to-code-it-but-your-ideas-have-to-be-detailed-and-organized                                                       |\n",
    "|Digital Divide|  0.94   | My Team Teach                    |  CB Videos       | http://localhost:4200/student/2023/11/28/DigitalDivide.html                                                     |\n",
    "|Computing Bias|  0.96   |   Jake Shim      |   CB Videos     |    http://127.0.0.1:4200/student/2023/12/12/ComputingBias.html#homework-hacks                                                     |\n",
    "|Crowdsourcing| 0.98 | Ankit P       |     Internet    |   http://127.0.0.1:4200/student/2023/12/14/Crowdsourcing.html                                                     | \t \t \t \n",
    "|Legal Ethical Concerns|   0.94   |    Taj M.  |    CB videos     | http://127.0.0.1:4200/student/2023/12/19/LegalandEthicalConcerns.html#-homework-                                                      |\n",
    "|Safe Computing|  0.95   |    Daniel Lee       |  CB Videos       | http://localhost:4200/student/2023/12/21/SafeComputing.html#homework                                                     |\n",
    "|CB Quiz  |      35/67   |    N/A                |  CB Videos        |  My Corrections: http://localhost:4200/student/2023/12/22/5MinuteBlogCorrections.html                                                     |\n",
    "|         |        |                       |          |                                                      |\n",
    "| Totals| Median Score: 0.95 | Number complete:9/9| Extra effort count:9/9| Key tangible assets count 9/9           |\n"
   ]
  }
 ],
 "metadata": {
  "language_info": {
   "name": "python"
  }
 },
 "nbformat": 4,
 "nbformat_minor": 2
}
