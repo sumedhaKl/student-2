{
 "cells": [
  {
   "cell_type": "markdown",
   "metadata": {},
   "source": [
    "---\n",
    "toc: true\n",
    "comments: true\n",
    "layout: post\n",
    "title: ALGORITHMS\n",
    "description: Team SRSC \n",
    "type: hacks\n",
    "courses: { csp: {week: 7} }\n",
    "---"
   ]
  },
  {
   "cell_type": "markdown",
   "metadata": {},
   "source": [
    "# ALGORITHMS \n",
    "## SRSC "
   ]
  },
  {
   "cell_type": "markdown",
   "metadata": {},
   "source": [
    "\n",
    "# <mark>BIG IDEA: A FINITE SET OF INSTRUCTIONS THAT ACCOMPLISH A SPECIFIC TASK \n",
    "\n"
   ]
  },
  {
   "cell_type": "markdown",
   "metadata": {},
   "source": [
    "## SEQUENCING \n",
    "\n",
    "### <mark> DO STEPS OF CODE IN THE ORDER SPECIFIED \n",
    "\n",
    "first step -> second step -> third step"
   ]
  },
  {
   "cell_type": "code",
   "execution_count": 39,
   "metadata": {},
   "outputs": [
    {
     "name": "stdout",
     "output_type": "stream",
     "text": [
      "double of 2 is 4\n"
     ]
    }
   ],
   "source": [
    "number = int(input(\"Enter a number: 2\"))\n",
    "\n",
    "result = number * 2\n",
    "print(\"double of \" + str(number) + \" is \" + str(result))\n"
   ]
  },
  {
   "cell_type": "markdown",
   "metadata": {},
   "source": []
  },
  {
   "cell_type": "markdown",
   "metadata": {},
   "source": [
    "\n",
    "1. Create a variable based on user input <br>\n",
    "2. Multiply variable by two<br>\n",
    "3. Print out both variables at the end<br>\n",
    "\n"
   ]
  },
  {
   "cell_type": "markdown",
   "metadata": {},
   "source": [
    "## SELECTION \n",
    "\n",
    "### <mark> Choose TWO OR MORE OUTCOMES based on a DECISION or CONDITION \n"
   ]
  },
  {
   "cell_type": "code",
   "execution_count": 40,
   "metadata": {},
   "outputs": [
    {
     "name": "stdout",
     "output_type": "stream",
     "text": [
      "Odd\n"
     ]
    }
   ],
   "source": [
    "number = 5\n",
    "if number % 2 == 0:\n",
    "    print(\"Even\")\n",
    "else:\n",
    "    print(\"Odd\")\n"
   ]
  },
  {
   "cell_type": "markdown",
   "metadata": {},
   "source": [
    "1. Set number to 5 <br>\n",
    "2. If number is divisible by 2 with no remainder, print \"Even\" <br>\n",
    "3. Otherwise, print \"Odd\" <br>\n"
   ]
  },
  {
   "cell_type": "markdown",
   "metadata": {},
   "source": [
    "# ITERATION \n",
    "\n",
    "## <mark> REPEAT STEPS BASED ON A DECISION or STOP when a condition is met \n",
    "\n",
    "first step -> \n",
    "second step -> \n",
    "if step 2: true -> first step \n",
    "if step 2: false -> third step \n",
    "-> fourth step "
   ]
  },
  {
   "cell_type": "code",
   "execution_count": 41,
   "metadata": {},
   "outputs": [
    {
     "name": "stdout",
     "output_type": "stream",
     "text": [
      "apple\n",
      "banana\n",
      "cherry\n"
     ]
    }
   ],
   "source": [
    "\n",
    "fruits = [\"apple\", \"banana\", \"cherry\"]\n",
    "for fruit in fruits:\n",
    "    print(fruit)\n",
    "\n"
   ]
  },
  {
   "cell_type": "markdown",
   "metadata": {},
   "source": [
    "1. Create a list called fruits <br>\n",
    "2. For each fruit in the list, print the fruit\n"
   ]
  },
  {
   "cell_type": "markdown",
   "metadata": {},
   "source": [
    "# ACTIVITY 1: Robot Pseudocode \n",
    "\n",
    "[Link to Robot Question 2](https://assets.learnosity.com/organisations/537/VR165972.g03.png)\n",
    "\n",
    "Write the pseudocode to move the robot onto the gray square. "
   ]
  },
  {
   "cell_type": "markdown",
   "metadata": {},
   "source": [
    "Available Code: <br>\n",
    "Move forward <br>\n",
    "Turn Left <br>\n",
    "Turn Right <br>\n",
    "\n",
    "\n",
    "\n"
   ]
  },
  {
   "cell_type": "markdown",
   "metadata": {},
   "source": [
    "PseudoCode here: \n",
    "\n",
    "move forward\n",
    "move forward \n",
    "move forward\n",
    "move left\n",
    "move forward\n",
    "move forward\n",
    "move right\n",
    "move forward\n",
    "move forward\n",
    "move forward"
   ]
  },
  {
   "cell_type": "code",
   "execution_count": 42,
   "metadata": {},
   "outputs": [
    {
     "name": "stdout",
     "output_type": "stream",
     "text": [
      "Addition\n",
      "8\n",
      "\n",
      "Subtraction\n",
      "6\n",
      "\n",
      "Multiplication\n",
      "42\n",
      "\n",
      "Float Division\n",
      "5.0\n",
      "\n",
      "Integer Division (floor division)\n",
      "5\n",
      "\n",
      "Modulus (remainder)\n",
      "1\n"
     ]
    }
   ],
   "source": [
    "# Math Operations:\n",
    "\n",
    "print(\"Addition\") #addition\n",
    "result = 5 + 3\n",
    "print(result)  # 8\n",
    "\n",
    "print(\"\\nSubtraction\") #subtraction\n",
    "result = 10 - 4\n",
    "print(result)  # 6\n",
    "\n",
    "print(\"\\nMultiplication\") #multiplication\n",
    "result = 6 * 7\n",
    "print(result)  # 42\n",
    "\n",
    "print(\"\\nFloat Division\") #float division (float = numbers with decimal values)\n",
    "result = 20 / 4\n",
    "print(result)  # 5.0\n",
    "\n",
    "print(\"\\nInteger Division (floor division)\") #floor division\n",
    "result = 20 // 4\n",
    "print(result)  # 5\n",
    "\n",
    "print(\"\\nModulus (remainder)\") #remainder\n",
    "result = 10 % 3\n",
    "print(result)  # 1"
   ]
  },
  {
   "cell_type": "markdown",
   "metadata": {},
   "source": [
    "## Fibonacci "
   ]
  },
  {
   "cell_type": "code",
   "execution_count": 43,
   "metadata": {},
   "outputs": [
    {
     "name": "stdout",
     "output_type": "stream",
     "text": [
      "[0, 1, 1, 2, 3, 5, 8, 13, 21, 34]\n"
     ]
    }
   ],
   "source": [
    "def fibonacci(n): #fibonacci sequence \n",
    "    fib_series = [0, 1]  \n",
    "\n",
    "    while len(fib_series) < n:\n",
    "        next_number = fib_series[-1] + fib_series[-2]  \n",
    "        fib_series.append(next_number)  \n",
    "\n",
    "    return fib_series\n",
    "\n",
    "n = 10  \n",
    "result = fibonacci(n)\n",
    "print(result)  # [0, 1, 1, 2, 3, 5, 8, 13, 21, 34]\n",
    "\n",
    "# initial length of list is 2 \n",
    "# while length of list is less than amount of numbers we want in our final sequence\n",
    "# add the last two numbers of the list \n",
    "# add this value to the end of the list \n",
    "# repeat until length of list reaches n\n"
   ]
  },
  {
   "cell_type": "markdown",
   "metadata": {},
   "source": [
    "## Mini Lesson: If, Else Statements"
   ]
  },
  {
   "cell_type": "code",
   "execution_count": 44,
   "metadata": {},
   "outputs": [
    {
     "name": "stdout",
     "output_type": "stream",
     "text": [
      "0 is zero.\n"
     ]
    }
   ],
   "source": [
    "num =0\n",
    "\n",
    "if num > 0:\n",
    "    print(str(num) + \" is positive.\")\n",
    "elif num < 0:\n",
    "    print(str(num) + \" is negative.\")\n",
    "else:\n",
    "    print(str(num) + \" is zero.\")\n"
   ]
  },
  {
   "cell_type": "markdown",
   "metadata": {},
   "source": [
    "## Mini Lesson 2: For, While Loops"
   ]
  },
  {
   "cell_type": "code",
   "execution_count": 45,
   "metadata": {},
   "outputs": [
    {
     "name": "stdout",
     "output_type": "stream",
     "text": [
      "Alice\n",
      "Bob\n",
      "Charlie\n",
      "David\n",
      "Eve\n",
      "1\n",
      "2\n",
      "3\n",
      "4\n",
      "5\n"
     ]
    }
   ],
   "source": [
    "names = [\"Alice\", \"Bob\", \"Charlie\", \"David\", \"Eve\"]\n",
    "for name in names:\n",
    "    print(name)\n",
    "\n",
    "\n",
    "num = 1\n",
    "while num <= 5:\n",
    "    print(num)\n",
    "    num += 1\n"
   ]
  },
  {
   "cell_type": "markdown",
   "metadata": {},
   "source": [
    "## Mini Lesson 3: Defining Function "
   ]
  },
  {
   "cell_type": "code",
   "execution_count": 65,
   "metadata": {},
   "outputs": [
    {
     "name": "stdout",
     "output_type": "stream",
     "text": [
      "The square of 5 is 25\n"
     ]
    }
   ],
   "source": [
    "\n",
    "def calculate_square(number):\n",
    "    square = number * number\n",
    "    return square #ends function \n",
    "\n",
    "result = calculate_square(5)\n",
    "print(f\"The square of 5 is {result}\")\n"
   ]
  },
  {
   "cell_type": "markdown",
   "metadata": {},
   "source": [
    "## Mini Lesson 4: Input"
   ]
  },
  {
   "cell_type": "code",
   "execution_count": 95,
   "metadata": {},
   "outputs": [
    {
     "name": "stdout",
     "output_type": "stream",
     "text": [
      "You are 12 years old\n"
     ]
    }
   ],
   "source": [
    "variable1 = input(\"How old are you?\")\n",
    "print(\"You are \" + variable1 + \" years old\")"
   ]
  },
  {
   "cell_type": "markdown",
   "metadata": {},
   "source": [
    "# ACTIVITY 2: CALCULATOR \n",
    "1. Create calculator function <br>\n",
    "2. Allow user to Choose 2 numbers and an operator <br>\n",
    "3. Perform specified operation based on input <br>\n",
    "4. Return result of calculation <br>\n"
   ]
  },
  {
   "cell_type": "code",
   "execution_count": 125,
   "metadata": {},
   "outputs": [
    {
     "name": "stdout",
     "output_type": "stream",
     "text": [
      "15\n",
      "5\n",
      "50\n",
      "2.0\n",
      "0\n"
     ]
    }
   ],
   "source": [
    "num1 = 10\n",
    "num2 = 5\n",
    "function = [\"addition\", \"subtraction\", \"multiplication\", \"division\", \"modulus\"]\n",
    "def calculate_function (result = num1 + num2):\n",
    "    if function: addition: result = num1 + num2\n",
    "print(num1 + num2) \n",
    "\n",
    "if function: subtraction: result = num1 - num2\n",
    "print(num1 - num2)\n",
    "\n",
    "if function: multiplication: result = num1 * num2\n",
    "print(num1*num2)\n",
    "\n",
    "if function: division: result = num1/num2\n",
    "print(num1/num2)\n",
    "\n",
    "if function: modulus: result = num1%num2\n",
    "print(num1%num2) "
   ]
  },
  {
   "cell_type": "code",
   "execution_count": null,
   "metadata": {},
   "outputs": [],
   "source": [
    "# String Operations and Concatenation:\n",
    "\n",
    "print(\"\\nString Concatenation\") #add together strings\n",
    "str1 = \"Hello\"\n",
    "str2 = \"World\"\n",
    "result = str1 + \" \" + str2\n",
    "print(result)  # \"Hello World\"\n",
    "\n",
    "print(\"\\nString Length\") #length of string\n",
    "text = \"This is a sample text.\"\n",
    "length = len(text)\n",
    "print(length)  # 22\n",
    "\n",
    "print(\"\\nString Indexing and Slicing\") #string slicing \n",
    "text = \"Python\"\n",
    "first_char = text[0]\n",
    "substring = text[2:5]\n",
    "print(first_char)  # 'P'\n",
    "print(substring)  # 'tho'\n",
    "\n",
    "\n",
    "print(\"\\nString Repetition (Repeating Strings)\")\n",
    "text = \"Repeat \"\n",
    "result = text * 3\n",
    "print(result)  # \"Repeat Repeat Repeat \"\n",
    "\n",
    "# Palindrome Check Algorithm:\n",
    "\n",
    "print(\"\\nPalindrome Check Algorithm\")\n",
    "\n",
    "def is_palindrome(text):\n",
    "    text = text.replace(\" \", \"\").lower()\n",
    "    return text == text[::-1] ## == will return boolean \n",
    "\n",
    "result1 = is_palindrome(\"racecar\")\n",
    "result2 = is_palindrome(\"Hello, World!\")\n",
    "\n",
    "print(result1)  # True\n",
    "print(result2)  # False"
   ]
  },
  {
   "cell_type": "markdown",
   "metadata": {},
   "source": [
    "# ACTIVITY 3: COUNTING VOWELS\n",
    "1. Create a function that takes a word as an input <br>\n",
    "2. Use a for loop to iterate through each character of a word <br>\n",
    "3. Check how many characters in a word contain vowels <br>\n",
    "4. Return vowel number <br>"
   ]
  },
  {
   "cell_type": "code",
   "execution_count": 129,
   "metadata": {},
   "outputs": [
    {
     "ename": "NameError",
     "evalue": "name 'vowel' is not defined",
     "output_type": "error",
     "traceback": [
      "\u001b[0;31m---------------------------------------------------------------------------\u001b[0m",
      "\u001b[0;31mNameError\u001b[0m                                 Traceback (most recent call last)",
      "\u001b[0;32m/tmp/ipykernel_497763/2171464884.py\u001b[0m in \u001b[0;36m<module>\u001b[0;34m\u001b[0m\n\u001b[1;32m      2\u001b[0m \u001b[0minput\u001b[0m \u001b[0;34m=\u001b[0m \u001b[0;34m\"Hello World\"\u001b[0m\u001b[0;34m\u001b[0m\u001b[0;34m\u001b[0m\u001b[0m\n\u001b[1;32m      3\u001b[0m \u001b[0;32mfor\u001b[0m \u001b[0mcharacter\u001b[0m \u001b[0;32min\u001b[0m \u001b[0minput\u001b[0m\u001b[0;34m:\u001b[0m\u001b[0;34m\u001b[0m\u001b[0;34m\u001b[0m\u001b[0m\n\u001b[0;32m----> 4\u001b[0;31m     \u001b[0;32mif\u001b[0m \u001b[0mcharacter\u001b[0m \u001b[0;32mis\u001b[0m \u001b[0mvowel\u001b[0m\u001b[0;34m:\u001b[0m\u001b[0;34m\u001b[0m\u001b[0;34m\u001b[0m\u001b[0m\n\u001b[0m\u001b[1;32m      5\u001b[0m         \u001b[0mprint\u001b[0m \u001b[0;34m(\u001b[0m\u001b[0mnumber\u001b[0m\u001b[0;34m)\u001b[0m \u001b[0;34m(\u001b[0m\u001b[0mcharacters\u001b[0m\u001b[0;34m)\u001b[0m\u001b[0;34m\u001b[0m\u001b[0;34m\u001b[0m\u001b[0m\n",
      "\u001b[0;31mNameError\u001b[0m: name 'vowel' is not defined"
     ]
    }
   ],
   "source": [
    "##YOUR WORK HERE\n",
    "input = \"Hello World\"\n",
    "for character in input: \n",
    "    if character is vowel:\n",
    "        print (number) (characters)"
   ]
  },
  {
   "cell_type": "markdown",
   "metadata": {},
   "source": [
    "# <mark> HOMEWORK \n",
    "## CREATE TEXT (string) ANALYZER: <br>\n",
    "### criteria: <br>\n",
    "1. Accepts input from user <br>\n",
    "2. Counts total letters, numbers, spaces in a string <br>\n",
    "3. Counts number of vowels <br>\n",
    "4. Calculates average word length <br>\n",
    "5. Correctly displays: total # of characters (including spaces + numbers), total vowels, average word length <br>\n",
    "### other criteria: <br>\n",
    "1. ensure that program handles upper and lowercase spelling <br>\n",
    "2. Test multiple inputs to ensure accuracy \n",
    "### Criteria for above 90%: <br>\n",
    "1. Add a unique program, function, or feature not specified by criterias\n"
   ]
  },
  {
   "cell_type": "code",
   "execution_count": 34,
   "metadata": {},
   "outputs": [
    {
     "name": "stdout",
     "output_type": "stream",
     "text": [
      "32\n",
      "Number of vowels: 9\n",
      "Average word length: 3.7142857142857144\n"
     ]
    }
   ],
   "source": [
    "firstword = \"This is a test code: Hello World\"\n",
    "length = len(firstword)\n",
    "print(length)\n",
    "\n",
    "vowels = [\"a\", \"e\", \"i\", \"o\", \"u\"]\n",
    "def num_vowels(firstword):\n",
    "    count = 0\n",
    "    for char in firstword: \n",
    "        if char.lower() in vowels:\n",
    "            count += 1\n",
    "    return count\n",
    "        \n",
    "input_string = firstword\n",
    "vowel_count = num_vowels(input_string)\n",
    "print(\"Number of vowels:\", vowel_count)\n",
    "\n",
    "phrase = \"This is a test code: Hello World\"\n",
    "\n",
    "words = phrase.split()\n",
    "\n",
    "total_length = sum(len(word) for word in words)\n",
    "\n",
    "average_length = total_length / len(words)\n",
    "\n",
    "print(\"Average word length:\", average_length)\n",
    "\n",
    "\n",
    "\n",
    "\n"
   ]
  }
 ],
 "metadata": {
  "kernelspec": {
   "display_name": "base",
   "language": "python",
   "name": "python3"
  },
  "language_info": {
   "codemirror_mode": {
    "name": "ipython",
    "version": 3
   },
   "file_extension": ".py",
   "mimetype": "text/x-python",
   "name": "python",
   "nbconvert_exporter": "python",
   "pygments_lexer": "ipython3",
   "version": "3.10.12"
  },
  "orig_nbformat": 4
 },
 "nbformat": 4,
 "nbformat_minor": 2
}
