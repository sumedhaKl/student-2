{
 "cells": [
  {
   "cell_type": "code",
   "execution_count": 41,
   "metadata": {},
   "outputs": [
    {
     "name": "stdout",
     "output_type": "stream",
     "text": [
      "[6, 3, 10, 5, 16, 8, 4, 2, 1]\n"
     ]
    }
   ],
   "source": [
    "def collatz_conjecture(i):\n",
    "    sequence = [i]\n",
    "\n",
    "    while i != 1:\n",
    "        if i % 2 == 0:\n",
    "            i = i // 2\n",
    "        else:\n",
    "            i = 3 * i + 1\n",
    "        sequence.append(i)\n",
    "    \n",
    "    return sequence\n",
    "\n",
    "initial_number = 6\n",
    "\n",
    "result = collatz_conjecture(initial_number)\n",
    "print(result)"
   ]
  }
 ],
 "metadata": {
  "kernelspec": {
   "display_name": "Python 3",
   "language": "python",
   "name": "python3"
  },
  "language_info": {
   "codemirror_mode": {
    "name": "ipython",
    "version": 3
   },
   "file_extension": ".py",
   "mimetype": "text/x-python",
   "name": "python",
   "nbconvert_exporter": "python",
   "pygments_lexer": "ipython3",
   "version": "3.10.12"
  }
 },
 "nbformat": 4,
 "nbformat_minor": 2
}
