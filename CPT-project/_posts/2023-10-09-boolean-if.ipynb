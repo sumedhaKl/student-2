{
 "cells": [
  {
   "cell_type": "markdown",
   "metadata": {},
   "source": [
    "---\n",
    "toc: true\n",
    "comments: true\n",
    "layout: post\n",
    "title: Boolean, If Lesson\n",
    "description: Team LEIA\n",
    "type: hacks\n",
    "courses: { compsci: {week: 6} }\n",
    "---"
   ]
  },
  {
   "cell_type": "markdown",
   "metadata": {},
   "source": [
    "# Boolean\n",
    "\n",
    "- A Boolean value is either true or false.\n",
    "- A Boolean expression produces a Boolean value (true or false) when evaluated."
   ]
  },
  {
   "cell_type": "markdown",
   "metadata": {},
   "source": [
    "## <mark>Conditional (\"if\") statements</mark>\n",
    "\n",
    "- Affect the sequential flow of control by executing different statements based on the value of a Boolean expression."
   ]
  },
  {
   "cell_type": "code",
   "execution_count": null,
   "metadata": {
    "vscode": {
     "languageId": "html"
    }
   },
   "outputs": [],
   "source": [
    "IF (condition)\n",
    "{\n",
    "\t<block of statements>\n",
    "}\n",
    "\n",
    "The code in <block of statements> is executed if the Boolean expression condition evaluates to true; no action is taken if condition evaluates to false.\n",
    "\n",
    "IF (condition)\n",
    "{\n",
    "\t<block of statements>\n",
    "}\n",
    "ELSE\n",
    "{\n",
    "\t<second block of statements>\n",
    "}\n",
    "\n",
    "The code in the first <block of statements> is executed if the Boolean expression condition evaluates to true; otherwise, the code in <second block of statements> is executed."
   ]
  },
  {
   "cell_type": "markdown",
   "metadata": {},
   "source": [
    "<b>Example:</b> Calculate the sum of 2 numbers. If the sum is greater than 10, display 10; otherwise, display the sum."
   ]
  },
  {
   "cell_type": "code",
   "execution_count": 1,
   "metadata": {
    "vscode": {
     "languageId": "html"
    }
   },
   "outputs": [
    {
     "ename": "NameError",
     "evalue": "name 'IF' is not defined",
     "output_type": "error",
     "traceback": [
      "\u001b[0;31m---------------------------------------------------------------------------\u001b[0m",
      "\u001b[0;31mNameError\u001b[0m                                 Traceback (most recent call last)",
      "\u001b[0;32m/tmp/ipykernel_27557/92098028.py\u001b[0m in \u001b[0;36m<module>\u001b[0;34m\u001b[0m\n\u001b[1;32m      2\u001b[0m \u001b[0mnum2\u001b[0m \u001b[0;34m=\u001b[0m \u001b[0;36m5\u001b[0m\u001b[0;34m\u001b[0m\u001b[0;34m\u001b[0m\u001b[0m\n\u001b[1;32m      3\u001b[0m \u001b[0msum\u001b[0m \u001b[0;34m=\u001b[0m \u001b[0mnum1\u001b[0m \u001b[0;34m+\u001b[0m \u001b[0mnum2\u001b[0m\u001b[0;34m\u001b[0m\u001b[0;34m\u001b[0m\u001b[0m\n\u001b[0;32m----> 4\u001b[0;31m \u001b[0mIF\u001b[0m \u001b[0;34m(\u001b[0m\u001b[0msum\u001b[0m \u001b[0;34m>\u001b[0m \u001b[0;36m10\u001b[0m\u001b[0;34m)\u001b[0m\u001b[0;34m\u001b[0m\u001b[0;34m\u001b[0m\u001b[0m\n\u001b[0m\u001b[1;32m      5\u001b[0m {\n\u001b[1;32m      6\u001b[0m         \u001b[0mDISPLAY\u001b[0m \u001b[0;34m(\u001b[0m\u001b[0;36m10\u001b[0m\u001b[0;34m)\u001b[0m\u001b[0;34m\u001b[0m\u001b[0;34m\u001b[0m\u001b[0m\n",
      "\u001b[0;31mNameError\u001b[0m: name 'IF' is not defined"
     ]
    }
   ],
   "source": [
    "num1 = 3\n",
    "num2 = 5\n",
    "sum = num1 + num2\n",
    "IF (sum > 10)\n",
    "{\n",
    "\tDISPLAY (10)\n",
    "}\n",
    "ELSE\n",
    "{\n",
    "\tDISPLAY (sum)\n",
    "}"
   ]
  },
  {
   "cell_type": "markdown",
   "metadata": {},
   "source": [
    "# Hack 1\n",
    "\n",
    "- Add a variable that represents an age.\n",
    "\n",
    "- Add an 'if' and 'print' function that says \"You are an adult\" if your age is greater than or equal to 18.\n",
    "\n",
    "- Make a function that prints \"You are a minor\" with the else function."
   ]
  },
  {
   "cell_type": "code",
   "execution_count": 5,
   "metadata": {},
   "outputs": [
    {
     "name": "stdout",
     "output_type": "stream",
     "text": [
      "You are an adult\n"
     ]
    }
   ],
   "source": [
    "age = 20\n",
    "if age >=18:\n",
    "    print(\"You are an adult\")\n",
    "else:\n",
    "    print(\"You are a minor\")\n",
    "    "
   ]
  },
  {
   "cell_type": "markdown",
   "metadata": {},
   "source": [
    "## <mark><b>Relational operators:</b></mark> \n",
    "- Used to test the relationship between 2 variables, expressions, or values. These relational operators are used for comparisons and they evaluate to a Boolean value (true or false).\n",
    "\n",
    "<b>Ex.</b> a == b evaluates to true if a and b are equal, otherwise evaluates to false\n",
    "\n",
    "- a == b (equals)\t\n",
    "- a != b (not equal to)\n",
    "- a > b (greater than)\n",
    "- a < b (less than)\n",
    "- a >= b (greater than or equal to)\n",
    "- a <= b (less than or equal to)"
   ]
  },
  {
   "cell_type": "markdown",
   "metadata": {},
   "source": [
    "<b>Example:</b> The legal age to work in California is 14 years old. How would we write a Boolean expression to check if someone is at least 14 years old?\n",
    "\n",
    "age >= 14"
   ]
  },
  {
   "cell_type": "markdown",
   "metadata": {},
   "source": [
    "<b>Example:</b> Write a Boolean expression to check if the average of height1, height2, and height3 is at least 65 inches.\n",
    "\n",
    "(height1 + height2 + height3) / 3 >= 65"
   ]
  },
  {
   "cell_type": "code",
   "execution_count": 7,
   "metadata": {},
   "outputs": [
    {
     "name": "stdout",
     "output_type": "stream",
     "text": [
      "72.33333333333333\n"
     ]
    }
   ],
   "source": [
    "height1=5\n",
    "height2=65\n",
    "height3=7\n",
    "average = (height1+height2+height3/3)\n",
    "if average >= 65:\n",
    "    print(average)\n",
    "else:\n",
    "    print(\"False\")"
   ]
  },
  {
   "cell_type": "markdown",
   "metadata": {},
   "source": [
    "# Hack 2\n",
    "\n",
    "- Make a variable called 'is_raining' and set it to 'True\".\n",
    "\n",
    "- Make an if statement that prints \"Bring an umbrella!\" if it is true\n",
    "\n",
    "- Make an else statement that says \"The weather is clear\"."
   ]
  },
  {
   "cell_type": "code",
   "execution_count": 8,
   "metadata": {},
   "outputs": [
    {
     "name": "stdout",
     "output_type": "stream",
     "text": [
      "Bring an umbrella\n"
     ]
    }
   ],
   "source": [
    "## YOUR CODE HERE\n",
    "\n",
    "is_raining = True\n",
    "if is_raining:\n",
    "    print(\"Bring an umbrella\")\n",
    "else:\n",
    "    print(\"The weather is clear\")"
   ]
  },
  {
   "cell_type": "markdown",
   "metadata": {},
   "source": [
    "## <mark><b>Logical operators:</b></mark>\n",
    "Used to evaluate multiple conditions to produce a single Boolean value.\n",
    "\n",
    "- <b>NOT</b>\tevaluates to true if condition is false, otherwise evaluates to false\n",
    "- <b>AND</b>\tevaluates to true if both conditions are true, otherwise evaluates to false\n",
    "- <b>OR</b>\tevaluates to true if either condition is true or if both conditions are true, otherwise evaluates to false"
   ]
  },
  {
   "cell_type": "markdown",
   "metadata": {},
   "source": [
    "<b>Example:</b> You win the game if you score at least 10 points and have 5 lives left or if you score at least 50 points and have more than 0 lives left. Write the Boolean expression for this scenario.\n",
    "\n",
    "(score >= 10 AND lives == 5) OR (score == 50 AND lives > 0)"
   ]
  },
  {
   "cell_type": "code",
   "execution_count": 98,
   "metadata": {
    "vscode": {
     "languageId": "html"
    }
   },
   "outputs": [
    {
     "ename": "SyntaxError",
     "evalue": "invalid syntax (3871453365.py, line 3)",
     "output_type": "error",
     "traceback": [
      "\u001b[0;36m  File \u001b[0;32m\"/tmp/ipykernel_27557/3871453365.py\"\u001b[0;36m, line \u001b[0;32m3\u001b[0m\n\u001b[0;31m    <b>Example:</b> These expressions are all different but will produce the same result.\u001b[0m\n\u001b[0m    ^\u001b[0m\n\u001b[0;31mSyntaxError\u001b[0m\u001b[0;31m:\u001b[0m invalid syntax\n"
     ]
    }
   ],
   "source": [
    "## <mark><b>Relational and logical operators:</b></mark>\n",
    "\n",
    "<b>Example:</b> These expressions are all different but will produce the same result.\n",
    "\n",
    "- age >= 16\n",
    "- age > 16 OR age == 16\n",
    "- NOT age < 16"
   ]
  },
  {
   "cell_type": "markdown",
   "metadata": {},
   "source": [
    "# Hack 3\n",
    "\n",
    "- Make a function to randomize numbers between 0 and 100 to be assigned to variables a and b using random.randint\n",
    "\n",
    "- Print the values of the variables\n",
    "\n",
    "- Print the relationship of the variables; a is more than, same as, or less than b"
   ]
  },
  {
   "cell_type": "code",
   "execution_count": 7,
   "metadata": {},
   "outputs": [
    {
     "name": "stdout",
     "output_type": "stream",
     "text": [
      "80\n",
      "88\n",
      "a is less than b\n"
     ]
    }
   ],
   "source": [
    "## YOUR CODE HERE\n",
    "\n",
    "import random\n",
    "\n",
    "a = random.randint(0,101)\n",
    "b = random.randint(0,101)\n",
    "\n",
    "print(a)\n",
    "print(b)\n",
    "\n",
    "if a> b:\n",
    "    print(\"a is greater than b\")\n",
    "elif a==b:\n",
    "    print(\"a is equal to b\")\n",
    "else:\n",
    "    print(\"a is less than b\")"
   ]
  },
  {
   "cell_type": "markdown",
   "metadata": {},
   "source": [
    "## <b>Homework</b>\n",
    "\n",
    "### Criteria for above 90%:\n",
    "- Add more questions relating to Boolean rather than only one per topic (ideas: expand on conditional statements, relational/logical operators)\n",
    "- Add a way to organize the user scores (possibly some kind of leaderboard, keep track of high score vs. current score, etc. Get creative!)\n",
    "- Remember to test your code to make sure it functions correctly."
   ]
  },
  {
   "cell_type": "code",
   "execution_count": 160,
   "metadata": {},
   "outputs": [
    {
     "name": "stdout",
     "output_type": "stream",
     "text": [
      "Hello, Sumedha running /bin/python\n",
      "You will be asked 5 questions.\n",
      "Question: Do you live in CA?\n",
      "correct\n",
      "Question: What are boolean expressions used for?\n",
      "correct\n",
      "Question: Why do we use conditional statements?\n",
      "correct\n",
      "Question: How are two values related?\n",
      "correct\n",
      "Question: What does the and operator evaluate?\n",
      "correct\n",
      "Sumedha, you scored 5/5 (100.0%)\n"
     ]
    }
   ],
   "source": [
    "#HOMEWORK\n",
    "\n",
    "\n",
    "# The quiz contains questions related to Boolean values, Boolean expressions,\n",
    "# conditional statements, relational operators, and logical operators.\n",
    "\n",
    "# Import necessary modules\n",
    "import getpass  # Module to get the user's name\n",
    "import sys  # Module to access system-related information\n",
    "\n",
    "# Define the number of questions and initialize the correct answers counter\n",
    "questions = 5\n",
    "correct = 0\n",
    "\n",
    "# Personalized greeting message\n",
    "# Collect the student's name\n",
    "user_name = input(\"Enter your name: \")\n",
    "print('Hello, ' + user_name + \" running \" + sys.executable)\n",
    "print(\"You will be asked \" + str(questions) + \" questions.\")\n",
    "answer = input(\"Are you ready to take a test?\")\n",
    "\n",
    "# Function to ask a question, get a response, and check the answer\n",
    "def question_with_response(prompt, answer):\n",
    "    global questions, correct\n",
    "    print(\"Question: \" + prompt)\n",
    "    user_input = input(\"Your answer: \")\n",
    "    questions += 1\n",
    "    if user_input == answer:\n",
    "        print(\"correct\")\n",
    "        correct += 1\n",
    "    else:\n",
    "        print(\"incorrect\")\n",
    "\n",
    "# Question 1: Boolean Basics\n",
    "question_with_response(\"Do you live in CA?\", \"Yes\")\n",
    "\n",
    "# Question 2: Boolean Expressions\n",
    "question_with_response(\"What are boolean expressions used for?\", \"To see if a statement is true or false\")\n",
    "\n",
    "# Question 3: Conditional Statements\n",
    "question_with_response(\"Why do we use conditional statements?\", \"To control how the code will run\")\n",
    "\n",
    "# Question 4: Relational Operators\n",
    "question_with_response(\"How are two values related?\", \"One is greater than the other\")\n",
    "\n",
    "# Question 5: Logical Operators\n",
    "question_with_response(\"What does the and operator evaluate?\", \"Whether both conditions are true\")\n",
    "\n",
    "# Display the final score\n",
    "# Display the final score\n",
    "percentage_correct = (correct / 5) * 100\n",
    "print(user_name + \", you scored \" + str(correct) + \"/5 (\" + str(percentage_correct) + \"%)\")"
   ]
  }
 ],
 "metadata": {
  "kernelspec": {
   "display_name": "Python 3",
   "language": "python",
   "name": "python3"
  },
  "language_info": {
   "codemirror_mode": {
    "name": "ipython",
    "version": 3
   },
   "file_extension": ".py",
   "mimetype": "text/x-python",
   "name": "python",
   "nbconvert_exporter": "python",
   "pygments_lexer": "ipython3",
   "version": "3.10.12"
  }
 },
 "nbformat": 4,
 "nbformat_minor": 2
}
