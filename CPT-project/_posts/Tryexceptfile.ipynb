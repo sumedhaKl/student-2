{
 "cells": [
  {
   "cell_type": "markdown",
   "metadata": {},
   "source": [
    "#### Types of Errors\n",
    "1. Syntax errors- Code does not follow rules of programming language\n",
    "2. Logic errors- Mistakes in how code is written\n",
    "3. Runtime error- Input value is not acceptable\n",
    "4. Overflow error- Output is not within range of defined values"
   ]
  },
  {
   "cell_type": "markdown",
   "metadata": {},
   "source": [
    "#### How to Correct Errors \n",
    "1. Test cases- Test different input values to see if the desired output appears\n",
    "2. Hand tracing- Going over the code line by line to see where the problem happens\n",
    "3. Visualizations- Using visual images to see whether a code works \n",
    "4. Debuggers- Are computer tools that help identify and correct errors \n",
    "5. Adding extra output statements- Modifications to a code such as try/except statements and if/else statements"
   ]
  },
  {
   "cell_type": "markdown",
   "metadata": {},
   "source": [
    "#### If/else statement"
   ]
  },
  {
   "cell_type": "code",
   "execution_count": null,
   "metadata": {},
   "outputs": [
    {
     "name": "stdout",
     "output_type": "stream",
     "text": [
      "False\n",
      "Error\n"
     ]
    }
   ],
   "source": [
    "a = 1\n",
    "b = 2\n",
    "if a>b:\n",
    "    print (\"True\")\n",
    "else: \n",
    "    print (\"False\")\n",
    "if b>a:\n",
    "    print (\"Error\")\n"
   ]
  },
  {
   "cell_type": "code",
   "execution_count": 33,
   "metadata": {},
   "outputs": [
    {
     "name": "stdout",
     "output_type": "stream",
     "text": [
      "False\n"
     ]
    }
   ],
   "source": [
    "a = 1\n",
    "b = 2\n",
    "if a>b:\n",
    "    print (\"True\")\n",
    "else: \n",
    "    print (\"False\")"
   ]
  },
  {
   "cell_type": "markdown",
   "metadata": {},
   "source": [
    "#### Try/except statements"
   ]
  },
  {
   "cell_type": "code",
   "execution_count": 39,
   "metadata": {},
   "outputs": [
    {
     "name": "stdout",
     "output_type": "stream",
     "text": [
      "Error 404\n"
     ]
    }
   ],
   "source": [
    "try:\n",
    "    num = int(input(\"Enter a number: \"))\n",
    "    if num >=10:\n",
    "        print(\"True\")\n",
    "    if num <10:\n",
    "        print(\"False\")\n",
    "except Exception as e:\n",
    "        print(\"Error 404\")"
   ]
  }
 ],
 "metadata": {
  "kernelspec": {
   "display_name": "Python 3 (ipykernel)",
   "language": "python",
   "name": "python3"
  },
  "language_info": {
   "codemirror_mode": {
    "name": "ipython",
    "version": 3
   },
   "file_extension": ".py",
   "mimetype": "text/x-python",
   "name": "python",
   "nbconvert_exporter": "python",
   "pygments_lexer": "ipython3",
   "version": "3.10.12"
  }
 },
 "nbformat": 4,
 "nbformat_minor": 2
}
